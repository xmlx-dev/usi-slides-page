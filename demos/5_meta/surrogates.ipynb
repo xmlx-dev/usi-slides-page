{
 "cells": [
  {
   "cell_type": "raw",
   "metadata": {
    "slideshow": {
     "slide_type": "skip"
    }
   },
   "source": [
    "---\n",
    "title: Surrogate Explainers\n",
    "subtitle: Interactive Demo\n",
    "format: ipynb\n",
    "resources:\n",
    "  - scripts\n",
    "  - \"!scripts/__pycache__\"\n",
    "  - doggo.jpg\n",
    "---"
   ]
  },
  {
   "cell_type": "code",
   "execution_count": null,
   "metadata": {
    "slideshow": {
     "slide_type": "skip"
    },
    "tags": [
     "hide-input"
    ]
   },
   "outputs": [],
   "source": [
    "import os\n",
    "REPOSITORY = (\n",
    "    'https://raw.githubusercontent.com/fat-forensics/resources/master/{}')\n",
    "SCRIPTS = [\n",
    "    'surrogates_overview/scripts/__init__.py',\n",
    "    'surrogates_overview/scripts/image_classifier.py',\n",
    "    'surrogates_overview/scripts/imagenet_label_map.py',\n",
    "    'surrogates_overview/scripts/surrogates_overview.py'\n",
    "]\n",
    "\n",
    "# ! pip install -r ../requirements.txt\n",
    "\n",
    "img = 'doggo.jpg'\n",
    "img_path = 'surrogates_overview/img/{}'.format(img)\n",
    "img_url = REPOSITORY.format(img_path)\n",
    "if not os.path.exists(img):\n",
    "    ! wget $img_url -O $img\n",
    "\n",
    "scr = 'scripts/'\n",
    "! mkdir -p $scr\n",
    "for script in SCRIPTS:\n",
    "    url = REPOSITORY.format(script)\n",
    "    scrpt = scr + os.path.basename(script)\n",
    "    if not os.path.exists(scrpt):\n",
    "        ! wget $url -O $scrpt"
   ]
  },
  {
   "cell_type": "code",
   "execution_count": null,
   "metadata": {
    "slideshow": {
     "slide_type": "skip"
    },
    "tags": [
     "hide-input"
    ]
   },
   "outputs": [],
   "source": [
    "import matplotlib.pyplot as plt\n",
    "plt.style.use('seaborn')\n",
    "%matplotlib inline"
   ]
  },
  {
   "cell_type": "code",
   "execution_count": null,
   "metadata": {
    "slideshow": {
     "slide_type": "skip"
    },
    "tags": [
     "hide-input"
    ]
   },
   "outputs": [],
   "source": [
    "from PIL import Image\n",
    "\n",
    "import numpy as np\n",
    "\n",
    "import scripts.image_classifier as imgclf\n",
    "import scripts.surrogates_overview as exo\n",
    "\n",
    "import sklearn.datasets\n",
    "import sklearn.linear_model"
   ]
  },
  {
   "cell_type": "code",
   "execution_count": null,
   "metadata": {
    "slideshow": {
     "slide_type": "skip"
    },
    "tags": [
     "hide-input"
    ]
   },
   "outputs": [],
   "source": [
    "# Load the image\n",
    "doggo_img = Image.open('doggo.jpg')\n",
    "doggo_array = np.array(doggo_img)\n",
    "\n",
    "# Load the classifier\n",
    "clf = imgclf.ImageClassifier()\n",
    "\n",
    "# doggo_y = clf.predict(doggo)\n",
    "doggo_proba = clf.predict_proba([doggo_array])\n",
    "doggo_labels_3 = clf.proba2tuple(doggo_proba, labels_no=3)[0]\n",
    "\n",
    "# Fix global options\n",
    "SAMPLES = 10\n",
    "BATCH = 100"
   ]
  },
  {
   "cell_type": "markdown",
   "metadata": {
    "slideshow": {
     "slide_type": "slide"
    }
   },
   "source": [
    "<h1 style=\"text-align: center\">Case Study: Surrogates</h1>\n",
    "<h2 style=\"text-align: center\">The Universal Explainers</h2>\n",
    "<br><br><br><br><br><br>\n",
    "<p style=\"vertical-align:bottom; float:right; font-size: 120%;\"><b>Kacper Sokol</b></p>"
   ]
  },
  {
   "cell_type": "markdown",
   "metadata": {
    "slideshow": {
     "slide_type": "slide"
    }
   },
   "source": [
    "## LIME: Local Interpretable Model-agnostic Explanations ##"
   ]
  },
  {
   "cell_type": "markdown",
   "metadata": {
    "slideshow": {
     "slide_type": "subslide"
    }
   },
   "source": [
    "<img width=\"60%\" align=\"middle\" src=\"{{< meta custom-paths.ipynb-figures >}}/lime.png\" alt=\"LIME\" style=\"display: block; margin-left: auto; margin-right: auto;\">\n",
    "    \n",
    "<span style=\"font-size: 18px;\">(*Ribeiro et al., 2016. \"Why should I trust you?\" Explaining the predictions of any classifier*)</span>"
   ]
  },
  {
   "cell_type": "markdown",
   "metadata": {
    "slideshow": {
     "slide_type": "subslide"
    }
   },
   "source": [
    "### Benefits ###\n",
    "\n",
    "<div class=\"row\">\n",
    "<div class=\"column\">\n",
    "\n",
    "* **Model-agnostic** – work with any black box\n",
    "* **Post-hoc** – can be retrofitted into pre-existing predictors\n",
    "* **Data-universal** – work with image, tabular and text data because of interpretable data representations\n",
    "\n",
    "</div>\n",
    "<div class=\"column\">\n",
    "<br><br>\n",
    "\n",
    "<!-- https://www.kindpng.com/imgv/hTbmhJ_silver-bullet-image-png-transparent-png/ -->\n",
    "<img width=\"90%\" align=\"middle\" src=\"{{< meta custom-paths.ipynb-figures >}}/bullet.png\" alt=\"silver bullet\" style=\"display: block; margin-left: auto; margin-right: auto;\">\n",
    "\n",
    "</div>\n",
    "</div>"
   ]
  },
  {
   "cell_type": "markdown",
   "metadata": {
    "slideshow": {
     "slide_type": "subslide"
    }
   },
   "source": [
    "### No Free Lunch ###\n",
    "\n",
    "<div class=\"row\">\n",
    "\n",
    "<div class=\"column\">\n",
    "\n",
    "<br>\n",
    "<img width=\"90%\" align=\"middle\" src=\"{{< meta custom-paths.ipynb-figures >}}/stop.png\" alt=\"ante-hoc explainability\" style=\"display: block; margin-left: auto; margin-right: auto;\">\n",
    "\n",
    "</div>\n",
    "\n",
    "<div class=\"column fragment\">\n",
    "</br></br></br>\n",
    "\n",
    "- Post-hoc explainers have poor fidelity\n",
    "- A **generic** eXplainable Artificial Intelligence process is *beyond our reach* at the moment\n",
    "\n",
    "</div>\n",
    "\n",
    "</div>"
   ]
  },
  {
   "cell_type": "markdown",
   "metadata": {
    "slideshow": {
     "slide_type": "subslide"
    }
   },
   "source": [
    "### bLIMEy, there has to be a better way... ###\n",
    "\n",
    "<img width=\"15%\" style=\"vertical-align:top; float:right;\" src=\"{{< meta custom-paths.ipynb-figures >}}/blimey.jpg\">\n",
    "\n",
    "bLIMEy &rarr; build LIME yourself\\\n",
    "(*Sokol et al., 2019. bLIMEy: Surrogate prediction explanations beyond LIME*)\n",
    "* Framework for building surrogate explainers\n",
    "* Meta-algorithm for operationalising them\n",
    "* Accompanied by analysis of surrogate building blocks (akin to a user guide)\n",
    "* Practical recommendations\n",
    "\n",
    "**Good news:** A means to build flexible, faithful, interactive, ... surrogates\\\n",
    "**Not so good news:** It requires effort\n",
    "\n",
    "<img width=\"35%\" align=\"right\" src=\"{{< meta custom-paths.ipynb-figures >}}/blimey-proc.svg\" alt=\"bLIMEy framework\" style=\"vertical-align:top; float:right;\">"
   ]
  },
  {
   "cell_type": "markdown",
   "metadata": {
    "slideshow": {
     "slide_type": "skip"
    }
   },
   "source": [
    "### bLIMEy Framework\n",
    "\n",
    "<img width=\"90%\" align=\"middle\" src=\"{{< meta custom-paths.ipynb-figures >}}/blimey-proc.svg\" alt=\"bLIMEy framework\" style=\"display: block; margin-left: auto; margin-right: auto;\">"
   ]
  },
  {
   "cell_type": "markdown",
   "metadata": {
    "slideshow": {
     "slide_type": "subslide"
    }
   },
   "source": [
    "### Operationalising surrogates ###\n",
    "\n",
    "</br>\n",
    "<div class=\"row\">\n",
    "<div style=\"flex: 75%;\">\n",
    "\n",
    "- To **use** surrogates, we need to understand\n",
    "  * their provenance\n",
    "  * how to (correctly) interpret their explanations\n",
    "\n",
    "- To **build** surrogates, we should\n",
    "  * choose suitable building blocks\n",
    "  * evaluate & validate these\n",
    "\n",
    "</div>\n",
    "<div style=\"flex: 25%;\">\n",
    "\n",
    "<img width=\"95%\" align=\"middle\" src=\"{{< meta custom-paths.ipynb-figures >}}/lime.png\" alt=\"LIME\" style=\"display: block; margin-left: auto; margin-right: auto;\">\n",
    "\n",
    "<!-- **LIME: Local Interpretable Model-agnostic Explanations** -->\n",
    "    \n",
    "<!-- <span style=\"font-size: 18px;\">(*Ribeiro et al., 2016. \"Why should I trust you?\" Explaining the predictions of any classifier*)</span> -->\n",
    "\n",
    "</div>\n",
    "</div>"
   ]
  },
  {
   "cell_type": "markdown",
   "metadata": {
    "slideshow": {
     "slide_type": "slide"
    }
   },
   "source": [
    "## Surrogate Image Explainers ##"
   ]
  },
  {
   "cell_type": "markdown",
   "metadata": {
    "slideshow": {
     "slide_type": "subslide"
    }
   },
   "source": [
    "### Image surrogates (LIME) ###\n",
    "\n",
    "<div class=\"row\">\n",
    "<div class=\"column\">\n",
    "<br>\n",
    "<img width=\"50%\" align=\"middle\" src=\"{{< meta custom-paths.ipynb-figures >}}/lime.png\" alt=\"LIME\" style=\"display: block; margin-left: auto; margin-right: auto;\">\n",
    "\n",
    "</div>\n",
    "<div class=\"column fragment\">\n",
    "<br>\n",
    "<img width=\"70%\" align=\"middle\" src=\"{{< meta custom-paths.ipynb-figures >}}/surrogate-images.svg\" alt=\"bLIMEy image\" style=\"display: block; margin-left: auto; margin-right: auto;\">\n",
    "\n",
    "</div>\n",
    "</div>"
   ]
  },
  {
   "cell_type": "markdown",
   "metadata": {
    "slideshow": {
     "slide_type": "-"
    }
   },
   "source": [
    "<img width=\"70%\" align=\"middle\" src=\"{{< meta custom-paths.ipynb-figures >}}/blimey_img.png\" alt=\"bLIMEy image explanation\" style=\"display: block; margin-left: auto; margin-right: auto;\">"
   ]
  },
  {
   "cell_type": "markdown",
   "metadata": {
    "slideshow": {
     "slide_type": "subslide"
    }
   },
   "source": [
    "### Segmentation-based interpretable representation ###\n",
    "\n",
    "</br>\n",
    "<img height=\"100%\" align=\"middle\" src=\"{{< meta custom-paths.ipynb-figures >}}/int_rep-img_ir.svg\" alt=\"bLIMEy image interpretable representation -- forward\" style=\"display: block; margin-left: auto; margin-right: auto;\">\n",
    "<br>\n",
    "<img height=\"100%\" align=\"middle\" src=\"{{< meta custom-paths.ipynb-figures >}}/int_rep-img_ri.svg\" alt=\"bLIMEy image interpretable representation -- reverse\" style=\"display: block; margin-left: auto; margin-right: auto;\">"
   ]
  },
  {
   "cell_type": "markdown",
   "metadata": {
    "slideshow": {
     "slide_type": "subslide"
    }
   },
   "source": [
    "### Black-box prediction ###"
   ]
  },
  {
   "cell_type": "code",
   "execution_count": null,
   "metadata": {
    "slideshow": {
     "slide_type": "skip"
    },
    "tags": [
     "hide-input"
    ]
   },
   "outputs": [],
   "source": [
    "classification = exo.plot_image_prediction(doggo_labels_3, doggo_array)"
   ]
  },
  {
   "cell_type": "code",
   "execution_count": null,
   "metadata": {
    "slideshow": {
     "slide_type": "-"
    },
    "tags": [
     "hide-input"
    ]
   },
   "outputs": [],
   "source": [
    "classification"
   ]
  },
  {
   "cell_type": "markdown",
   "metadata": {
    "slideshow": {
     "slide_type": "subslide"
    }
   },
   "source": [
    "### Prediction explanation ###"
   ]
  },
  {
   "cell_type": "code",
   "execution_count": null,
   "metadata": {
    "slideshow": {
     "slide_type": "skip"
    },
    "tags": [
     "hide-input"
    ]
   },
   "outputs": [],
   "source": [
    "# LIME explanation for tennis ball/golden retriever/Labrador retriever <->\n",
    "# image colouring <-> bar plot\n",
    "explain_classes = [(i[0], i[2]) for i in doggo_labels_3]\n",
    "blimey_image = exo.build_image_blimey(\n",
    "    doggo_array,\n",
    "    clf.predict_proba,\n",
    "    explain_classes,\n",
    "    explanation_size=5,\n",
    "    segments_number=13,\n",
    "    occlusion_colour='mean',\n",
    "    samples_number=SAMPLES,\n",
    "    batch_size=BATCH,\n",
    "    random_seed=42)"
   ]
  },
  {
   "cell_type": "code",
   "execution_count": null,
   "metadata": {
    "slideshow": {
     "slide_type": "-"
    },
    "tags": [
     "hide-input"
    ]
   },
   "outputs": [],
   "source": [
    "exo.plot_image_explanation(blimey_image, explain_classes[0])"
   ]
  },
  {
   "cell_type": "markdown",
   "metadata": {
    "slideshow": {
     "slide_type": "subslide"
    }
   },
   "source": [
    "### Prediction explanation ###"
   ]
  },
  {
   "cell_type": "code",
   "execution_count": null,
   "metadata": {
    "slideshow": {
     "slide_type": "-"
    },
    "tags": [
     "hide-input"
    ]
   },
   "outputs": [],
   "source": [
    "exo.plot_image_explanation(blimey_image, explain_classes[1])"
   ]
  },
  {
   "cell_type": "code",
   "execution_count": null,
   "metadata": {
    "slideshow": {
     "slide_type": "skip"
    },
    "tags": [
     "hide-input"
    ]
   },
   "outputs": [],
   "source": [
    "exo.plot_image_explanation(blimey_image, explain_classes[2])"
   ]
  },
  {
   "cell_type": "markdown",
   "metadata": {
    "slideshow": {
     "slide_type": "subslide"
    }
   },
   "source": [
    "### Explainer demo ###"
   ]
  },
  {
   "cell_type": "code",
   "execution_count": null,
   "metadata": {
    "slideshow": {
     "slide_type": "skip"
    },
    "tags": [
     "hide-input"
    ]
   },
   "outputs": [],
   "source": [
    "# Configure widgets to select occlusion colour, segmentation granularity and\n",
    "# explained class\n",
    "colour_selection = {\n",
    "    i: i for i in ['mean', 'black', 'white', 'randomise-patch', 'green']\n",
    "}\n",
    "granularity_selection = {'low': 13, 'medium': 30, 'high': 50}\n",
    "class_selection = {label: class_id for label, class_id in explain_classes}"
   ]
  },
  {
   "cell_type": "code",
   "execution_count": null,
   "metadata": {
    "slideshow": {
     "slide_type": "skip"
    },
    "tags": [
     "hide-input"
    ]
   },
   "outputs": [],
   "source": [
    "# Generate explanations\n",
    "blimey_image_collection = {}\n",
    "for gran_name, gran_number in granularity_selection.items():\n",
    "    blimey_image_collection[gran_name] = {}\n",
    "    for col_name in colour_selection:\n",
    "        blimey_image_collection[gran_name][col_name] = exo.build_image_blimey(\n",
    "            doggo_array,\n",
    "            clf.predict_proba,\n",
    "            explain_classes,\n",
    "            explanation_size=5,\n",
    "            segments_number=gran_number,\n",
    "            occlusion_colour=col_name,\n",
    "            samples_number=SAMPLES,\n",
    "            batch_size=BATCH,\n",
    "            random_seed=42)"
   ]
  },
  {
   "cell_type": "code",
   "execution_count": null,
   "metadata": {
    "slideshow": {
     "slide_type": "skip"
    },
    "tags": [
     "hide-input"
    ]
   },
   "outputs": [],
   "source": [
    "# Plot bar-plot explanation, image explanation and randomly occluded example\n",
    "surrogate_image_explainer = exo.generate_image_widget(\n",
    "    blimey_image_collection,\n",
    "    granularity_selection,\n",
    "    colour_selection,\n",
    "    class_selection)"
   ]
  },
  {
   "cell_type": "code",
   "execution_count": null,
   "metadata": {
    "slideshow": {
     "slide_type": "-"
    },
    "tags": [
     "hide-input"
    ]
   },
   "outputs": [],
   "source": [
    "surrogate_image_explainer"
   ]
  },
  {
   "cell_type": "markdown",
   "metadata": {
    "slideshow": {
     "slide_type": "subslide"
    }
   },
   "source": [
    "### Segmentation granularity and occlusion colour – 5 segments ###\n",
    "<img width=\"65%\" align=\"middle\" src=\"{{< meta custom-paths.ipynb-figures >}}/intrep_img_5.svg\" alt=\"bLIMEy image -- 5 segments\" style=\"display: block; margin-left: auto; margin-right: auto;\">"
   ]
  },
  {
   "cell_type": "markdown",
   "metadata": {
    "slideshow": {
     "slide_type": "subslide"
    }
   },
   "source": [
    "### Segmentation granularity and occlusion colour – 40 segments ###\n",
    "\n",
    "<img width=\"65%\" align=\"middle\" src=\"{{< meta custom-paths.ipynb-figures >}}/intrep_img_40.svg\" alt=\"bLIMEy image -- 40 segments\" style=\"display: block; margin-left: auto; margin-right: auto;\">"
   ]
  },
  {
   "cell_type": "markdown",
   "metadata": {
    "slideshow": {
     "slide_type": "slide"
    }
   },
   "source": [
    "## Surrogate Explainers of Tabular Data ##"
   ]
  },
  {
   "cell_type": "markdown",
   "metadata": {
    "slideshow": {
     "slide_type": "subslide"
    }
   },
   "source": [
    "### Classifying iris flowers ###\n",
    "\n",
    "<img width=\"30%\" align=\"middle\" src=\"{{< meta custom-paths.ipynb-figures >}}/iris.png\" alt=\"Iris Data Set\" style=\"display: block; margin-left: auto; margin-right: auto;\">\n",
    "<img width=\"70%\" align=\"middle\" src=\"{{< meta custom-paths.ipynb-figures >}}/iris-classes.jpeg\" alt=\"Iris Classes\" style=\"display: block; margin-left: auto; margin-right: auto;\">"
   ]
  },
  {
   "cell_type": "code",
   "execution_count": null,
   "metadata": {
    "slideshow": {
     "slide_type": "skip"
    },
    "tags": [
     "hide-input"
    ]
   },
   "outputs": [],
   "source": [
    "# Load the iris data set\n",
    "iris = sklearn.datasets.load_iris()\n",
    "iris_X = iris.data  # [:, :2]  #  take the first two features only\n",
    "iris_y = iris.target\n",
    "\n",
    "iris_labels = iris.target_names\n",
    "iris_feature_names = iris.feature_names\n",
    "\n",
    "label2class = {lab: i for i, lab in enumerate(iris_labels)}\n",
    "feature2name = {i: feat for i, feat in enumerate(iris_feature_names)}\n",
    "\n",
    "# Fit the classifier\n",
    "logreg = sklearn.linear_model.LogisticRegression(C=1e5)\n",
    "logreg.fit(iris_X, iris_y)"
   ]
  },
  {
   "cell_type": "code",
   "execution_count": null,
   "metadata": {
    "slideshow": {
     "slide_type": "skip"
    },
    "tags": [
     "hide-input"
    ]
   },
   "outputs": [],
   "source": [
    "# Configure widgets to select explained instance, discretisation and\n",
    "# explained class\n",
    "_dtype = iris_X.dtype\n",
    "explained_instances = {\n",
    "    'setosa': np.array([5, 3.5, 1.5, 0.25]).astype(_dtype),\n",
    "    'versicolor': np.array([5.5, 2.75, 4.5, 1.25]).astype(_dtype),\n",
    "    'virginica': np.array([7, 3, 5.5, 2.25]).astype(_dtype)\n",
    "}\n",
    "\n",
    "petal_length_idx = iris_feature_names.index('petal length (cm)')\n",
    "petal_length_bins = [1, 2, 3, 4, 5, 6, 7]\n",
    "petal_width_idx = iris_feature_names.index('petal width (cm)')\n",
    "petal_width_bins = [0, .5, 1, 1.5, 2, 2.5]\n",
    "discretisation = {\n",
    "    petal_length_idx: {\n",
    "        'range': petal_length_bins,\n",
    "        'default': [2, 3],\n",
    "        'step': 1\n",
    "    },\n",
    "    petal_width_idx: {\n",
    "        'range': petal_width_bins,\n",
    "        'default': [.5, 1],\n",
    "        'step': .5\n",
    "    }\n",
    "}\n",
    "\n",
    "# Fix global options\n",
    "SAMPLE_IRIS = False\n",
    "IRIS_SAMPLES = 50000"
   ]
  },
  {
   "cell_type": "code",
   "execution_count": null,
   "metadata": {
    "slideshow": {
     "slide_type": "skip"
    },
    "tags": [
     "hide-input"
    ]
   },
   "outputs": [],
   "source": [
    "surrogate_tabular_explainer = exo.generate_tabular_widget(\n",
    "    explained_instances,\n",
    "    discretisation,\n",
    "    label2class,\n",
    "    feature2name,\n",
    "    iris_X,\n",
    "    iris_y,\n",
    "    logreg.predict_proba,\n",
    "    samples_number=IRIS_SAMPLES,\n",
    "    sample=SAMPLE_IRIS,\n",
    "    random_seed=42)"
   ]
  },
  {
   "cell_type": "markdown",
   "metadata": {
    "slideshow": {
     "slide_type": "subslide"
    }
   },
   "source": [
    "### Tabular surrogates (LIME) ###\n",
    "\n",
    "<div class=\"row\">\n",
    "<div class=\"column\">\n",
    "<br>\n",
    "<img width=\"50%\" align=\"middle\" src=\"{{< meta custom-paths.ipynb-figures >}}/lime.png\" alt=\"LIME\" style=\"display: block; margin-left: auto; margin-right: auto;\">\n",
    "\n",
    "</div>\n",
    "<div class=\"column fragment\">\n",
    "<br>\n",
    "<img width=\"70%\" align=\"middle\" src=\"{{< meta custom-paths.ipynb-figures >}}/surrogate-tabular.svg\" alt=\"bLIMEy tabular\" style=\"display: block; margin-left: auto; margin-right: auto;\">\n",
    "\n",
    "</div>\n",
    "</div>"
   ]
  },
  {
   "cell_type": "markdown",
   "metadata": {
    "slideshow": {
     "slide_type": "-"
    }
   },
   "source": [
    "<img width=\"70%\" align=\"middle\" src=\"{{< meta custom-paths.ipynb-figures >}}/blimey_tab.png\" alt=\"bLIMEy tabular explanation\" style=\"display: block; margin-left: auto; margin-right: auto;\">"
   ]
  },
  {
   "cell_type": "markdown",
   "metadata": {
    "slideshow": {
     "slide_type": "subslide"
    }
   },
   "source": [
    "### Interpretable representation ###\n",
    "<br>\n",
    "<img width=\"66%\" align=\"middle\" src=\"{{< meta custom-paths.ipynb-figures >}}/tab1.svg\" alt=\"bLIMEy tabular interpretable representation -- forward\" style=\"display: block; margin-left: auto; margin-right: auto;\">\n",
    "<br>\n",
    "<img width=\"33%\" align=\"middle\" src=\"{{< meta custom-paths.ipynb-figures >}}/tab2.svg\" alt=\"bLIMEy tabular interpretable representation -- reverse\" style=\"display: block; margin-left: auto; margin-right: auto;\">"
   ]
  },
  {
   "cell_type": "markdown",
   "metadata": {
    "slideshow": {
     "slide_type": "subslide"
    }
   },
   "source": [
    "### Explainer demo ###"
   ]
  },
  {
   "cell_type": "code",
   "execution_count": null,
   "metadata": {
    "slideshow": {
     "slide_type": "-"
    },
    "tags": [
     "hide-input"
    ]
   },
   "outputs": [],
   "source": [
    "surrogate_tabular_explainer"
   ]
  },
  {
   "cell_type": "markdown",
   "metadata": {
    "slideshow": {
     "slide_type": "subslide"
    }
   },
   "source": [
    "### But why? Meaning of the explanations ###\n",
    "<br>\n",
    "<img width=\"45%\" align=\"middle\" src=\"{{< meta custom-paths.ipynb-figures >}}/tabular_ir_top-left.png\" alt=\"bLIMEy tabular toy interpretable representation\" style=\"display: block; margin-left: auto; margin-right: auto;\">"
   ]
  },
  {
   "cell_type": "markdown",
   "metadata": {
    "slideshow": {
     "slide_type": "subslide"
    }
   },
   "source": [
    "### But why? Meaning of the explanations (ctd.) ###\n",
    "<br>\n",
    "<br>\n",
    "<img width=\"100%\" align=\"middle\" src=\"{{< meta custom-paths.ipynb-figures >}}/blimey_ols.svg\" alt=\"bLIMEy tabular analytical OLS solution\" style=\"display: block; margin-left: auto; margin-right: auto;\">"
   ]
  },
  {
   "cell_type": "markdown",
   "metadata": {
    "slideshow": {
     "slide_type": "slide"
    }
   },
   "source": [
    "## Take-home Messages"
   ]
  },
  {
   "cell_type": "markdown",
   "metadata": {
    "slideshow": {
     "slide_type": "subslide"
    }
   },
   "source": [
    "> Explainability algorithms **are not** *monolithic* entities"
   ]
  },
  {
   "cell_type": "markdown",
   "metadata": {
    "slideshow": {
     "slide_type": "subslide"
    }
   },
   "source": [
    "> Explainers need to be **configured** or **tailor-made** for the application at hand"
   ]
  },
  {
   "cell_type": "markdown",
   "metadata": {
    "slideshow": {
     "slide_type": "subslide"
    }
   },
   "source": [
    "> These are **diagnostic tools** that only become **explainers** when their  \n",
    "> *provenance*, *caveats*, *properties* and *outputs* are well-understood"
   ]
  },
  {
   "cell_type": "markdown",
   "metadata": {
    "slideshow": {
     "slide_type": "subslide"
    }
   },
   "source": [
    "> Do we really need to use complex methods to solve the problem at hand?\n",
    ">\n",
    "> * AI\n",
    "> * ML\n",
    "> * DL\n",
    "> * [*insert the name of a new technology*]"
   ]
  },
  {
   "cell_type": "markdown",
   "metadata": {
    "slideshow": {
     "slide_type": "slide"
    }
   },
   "source": [
    "## Where to Go from Here ##"
   ]
  },
  {
   "cell_type": "markdown",
   "metadata": {
    "slideshow": {
     "slide_type": "subslide"
    }
   },
   "source": [
    "<img width=\"10%\" style=\"vertical-align:top; float:right;\" src=\"{{< meta custom-paths.ipynb-images >}}/fatf.png\">\n",
    "<h3><tt>FAT Forensics</tt> &lt;<a href=\"https://fat-forensics.org/\">https://fat-forensics.org/</a>&gt;</h3>\n",
    "<br>\n",
    "\n",
    "* A modular Python toolkit for algorithmic Fairness, Accountability and **Transparency**\n",
    "* Aimed at both *end-users* and *domain experts*\n",
    "* Built for *research* and *deployment*\n",
    "\n",
    "<br>\n",
    "\n",
    "<hr>\n",
    "\n",
    "<br>\n",
    "\n",
    "- *Sokol et al., 2020. FAT Forensics: A Python toolbox for implementing and deploying fairness, accountability and transparency algorithms in predictive systems*\n",
    "- *Sokol et al., 2022. FAT Forensics: A Python toolbox for algorithmic fairness, accountability and transparency*"
   ]
  },
  {
   "cell_type": "markdown",
   "metadata": {
    "slideshow": {
     "slide_type": "subslide"
    }
   },
   "source": [
    "<img width=\"25%\" style=\"vertical-align:top; float:right;\" src=\"{{< meta custom-paths.ipynb-images >}}/2020ecmlpkdd.png\">\n",
    "<h3>ECML-PKDD 2020 hands-on explainability tutorial</h3>\n",
    "<br><br>\n",
    "\n",
    "Tutorial resources: https://events.fat-forensics.org/2020_ecml-pkdd\n",
    "\n",
    "<br>\n",
    "\n",
    "<hr>\n",
    "\n",
    "<br>\n",
    "\n",
    "- *Sokol et al., 2020. What and How of Machine Learning Transparency: Building Bespoke Explainability Tools with Interoperable Algorithmic Components*"
   ]
  },
  {
   "cell_type": "markdown",
   "metadata": {
    "slideshow": {
     "slide_type": "subslide"
    }
   },
   "source": [
    "<img width=\"15%\" style=\"vertical-align:top; float:right;\" src=\"{{< meta custom-paths.ipynb-images >}}/TAILOR-logo-light-background.png\">\n",
    "<img width=\"10%\" style=\"vertical-align:top; float:right;\" src=\"{{< meta custom-paths.ipynb-images >}}/iai-cdt.png\">\n",
    "<h3>Extra resources</h3>\n",
    "<br><br>\n",
    "\n",
    "* 2021 TAILOR – Summer School session\n",
    "* University of Bristol Centre for Doctoral Training in Interactive Artificial Intelligence – BIAS Summer School session\n",
    "* 2021 The Alan Turing Institute's AI UK\n",
    "* …\n",
    "\n",
    "<br>\n",
    "\n",
    "<hr>\n",
    "\n",
    "<br>\n",
    "\n",
    "- <https://events.fat-forensics.org/>\n",
    "- <https://github.com/fat-forensics/resources>"
   ]
  },
  {
   "cell_type": "markdown",
   "metadata": {
    "slideshow": {
     "slide_type": "subslide"
    }
   },
   "source": [
    "<img width=\"20%\" style=\"vertical-align:top; float:right;\" src=\"{{< meta custom-paths.ipynb-images >}}/turing.png\">\n",
    "<h3>Self-paced online learning materials</h3>\n",
    "<br>\n",
    "<!-- <br> -->\n",
    "\n",
    "* Interactive online training resources on *interpretability*, *explainability* and *transparency*\n",
    "* To be published in *late 2022 / early 2023*\n",
    "\n",
    "<h3>PhD / Master's Course materials</h3>\n",
    "<br>\n",
    "<!-- <br> -->\n",
    "\n",
    "* Comprehensive overview of *interpretability*, *explainability* and *transparency*\n",
    "* To be published *sometime in 2023*\n",
    "* (Possibly transformed into a MOOC later in the year)"
   ]
  },
  {
   "cell_type": "markdown",
   "metadata": {
    "slideshow": {
     "slide_type": "slide"
    }
   },
   "source": [
    "&nbsp;"
   ]
  },
  {
   "cell_type": "markdown",
   "metadata": {
    "slideshow": {
     "slide_type": "slide"
    }
   },
   "source": [
    "## Helpers ##"
   ]
  },
  {
   "cell_type": "markdown",
   "metadata": {
    "slideshow": {
     "slide_type": "subslide"
    }
   },
   "source": [
    "### Feature partition ###\n",
    "\n",
    "<div class=\"row\">\n",
    "<div class=\"column\">\n",
    "<br><br>\n",
    "<img width=\"90%\" align=\"bottom\" src=\"{{< meta custom-paths.ipynb-figures >}}/discretisation_dist_annotated.png\" alt=\"bLIMEy tabular toy partition 1\" style=\"display: block; margin-left: auto; margin-right: auto; bottom: 0;\">\n",
    "\n",
    "</div>\n",
    "<div class=\"column\">\n",
    "<br>\n",
    "<img width=\"90%\" align=\"bottom\" src=\"{{< meta custom-paths.ipynb-figures >}}/discretisation_class_annotated.png\" alt=\"bLIMEy tabular toy partition 2\" style=\"display: block; margin-left: auto; margin-right: auto; bottom: 0;\">\n",
    "\n",
    "</div>\n",
    "</div>"
   ]
  },
  {
   "cell_type": "markdown",
   "metadata": {
    "slideshow": {
     "slide_type": "subslide"
    }
   },
   "source": [
    "### Feature partition (ctd.) ###\n",
    "\n",
    "<div class=\"row\">\n",
    "<div class=\"column\">\n",
    "<br>\n",
    "<img width=\"90%\" align=\"bottom\" src=\"{{< meta custom-paths.ipynb-figures >}}/part-global_quartile_discretisation.svg\" alt=\"bLIMEy tabular global quartile partition\" style=\"display: block; margin-left: auto; margin-right: auto;\">\n",
    "\n",
    "</div>\n",
    "<div class=\"column\">\n",
    "<br>\n",
    "<img width=\"90%\" align=\"bottom\" src=\"{{< meta custom-paths.ipynb-figures >}}/part-local_quartile_discretisation.svg\" alt=\"bLIMEy tabular local quartile partition\" style=\"display: block; margin-left: auto; margin-right: auto;\">\n",
    "\n",
    "</div>\n",
    "<div class=\"column\">\n",
    "<br>\n",
    "<img width=\"90%\" align=\"bottom\" src=\"{{< meta custom-paths.ipynb-figures >}}/part-global_dt_discretisation.svg\" alt=\"bLIMEy tabular global tree partition\" style=\"display: block; margin-left: auto; margin-right: auto;\">\n",
    "\n",
    "</div>\n",
    "<div class=\"column\">\n",
    "<br>\n",
    "<img width=\"90%\" align=\"bottom\" src=\"{{< meta custom-paths.ipynb-figures >}}/part-local_dt_discretisation.svg\" alt=\"bLIMEy tabular local tree partition\" style=\"display: block; margin-left: auto; margin-right: auto;\">\n",
    "\n",
    "</div>\n",
    "</div>"
   ]
  },
  {
   "cell_type": "markdown",
   "metadata": {
    "slideshow": {
     "slide_type": "subslide"
    }
   },
   "source": [
    "### Sampling ###\n",
    "<div class=\"row\">\n",
    "<div class=\"column\">\n",
    "<br>\n",
    "<img width=\"90%\" align=\"bottom\" src=\"{{< meta custom-paths.ipynb-figures >}}/iris_sample_normal.svg\" alt=\"bLIMEy tabular sampling -- normal\" style=\"display: block; margin-left: auto; margin-right: auto;\">\n",
    "\n",
    "</div>\n",
    "<div class=\"column\">\n",
    "<br>\n",
    "<img width=\"90%\" align=\"bottom\" src=\"{{< meta custom-paths.ipynb-figures >}}/iris_sample_truncated_normal.svg\" alt=\"bLIMEy tabular sampling -- truncated normal\" style=\"display: block; margin-left: auto; margin-right: auto;\">\n",
    "\n",
    "</div>\n",
    "<div class=\"column\">\n",
    "<br>\n",
    "<img width=\"90%\" align=\"bottom\" src=\"{{< meta custom-paths.ipynb-figures >}}/iris_sample_mixup.svg\" alt=\"bLIMEy tabular sampling -- mixup\" style=\"display: block; margin-left: auto; margin-right: auto;\">\n",
    "\n",
    "</div>\n",
    "<div class=\"column\">\n",
    "<br>\n",
    "<img width=\"90%\" align=\"bottom\" src=\"{{< meta custom-paths.ipynb-figures >}}/iris_sample_normal_class_discovery.svg\" alt=\"bLIMEy tabular sampling -- normal class discovery\" style=\"display: block; margin-left: auto; margin-right: auto;\">\n",
    "\n",
    "</div>\n",
    "</div>"
   ]
  },
  {
   "cell_type": "markdown",
   "metadata": {
    "slideshow": {
     "slide_type": "slide"
    }
   },
   "source": [
    "&nbsp;"
   ]
  }
 ],
 "metadata": {},
 "nbformat": 4,
 "nbformat_minor": 4
}
